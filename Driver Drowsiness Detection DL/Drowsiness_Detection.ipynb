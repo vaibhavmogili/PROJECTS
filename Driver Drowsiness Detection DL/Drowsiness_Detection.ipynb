{
 "cells": [
  {
   "cell_type": "markdown",
   "id": "6554e789",
   "metadata": {},
   "source": [
    "<h2>1. Install and Import Dependencies</h2>"
   ]
  },
  {
   "cell_type": "code",
   "execution_count": 1,
   "id": "c26ffa48",
   "metadata": {},
   "outputs": [],
   "source": [
    "# pip3 install torch torchvision torchaudio --index-url https://download.pytorch.org/whl/cu121"
   ]
  },
  {
   "cell_type": "code",
   "execution_count": 2,
   "id": "56c55132",
   "metadata": {},
   "outputs": [],
   "source": [
    "# !git clone https://github.com/ultralytics/yolov5 "
   ]
  },
  {
   "cell_type": "code",
   "execution_count": 3,
   "id": "591e23db",
   "metadata": {},
   "outputs": [],
   "source": [
    "# pip install -r requirements.txt"
   ]
  },
  {
   "cell_type": "code",
   "execution_count": 4,
   "id": "2b4b4165",
   "metadata": {},
   "outputs": [],
   "source": [
    "# !cd yolov5 & pip install -r requirements.txt"
   ]
  },
  {
   "cell_type": "code",
   "execution_count": 5,
   "id": "a74b23b5",
   "metadata": {},
   "outputs": [],
   "source": [
    "import torch\n",
    "import cv2\n",
    "import numpy as np\n",
    "import matplotlib.pyplot as plt"
   ]
  },
  {
   "cell_type": "markdown",
   "id": "8ab760d0",
   "metadata": {},
   "source": [
    "<h2>2. Load Model</h2>"
   ]
  },
  {
   "cell_type": "code",
   "execution_count": 6,
   "id": "67653f59",
   "metadata": {
    "scrolled": false
   },
   "outputs": [
    {
     "name": "stderr",
     "output_type": "stream",
     "text": [
      "Using cache found in C:\\Users\\Bhavya/.cache\\torch\\hub\\ultralytics_yolov5_master\n",
      "YOLOv5  2024-4-6 Python-3.11.5 torch-2.2.2+cu121 CPU\n",
      "\n",
      "Fusing layers... \n",
      "YOLOv5s summary: 213 layers, 7225885 parameters, 0 gradients, 16.4 GFLOPs\n",
      "Adding AutoShape... \n"
     ]
    }
   ],
   "source": [
    "model = torch.hub.load('ultralytics/yolov5', 'yolov5s')"
   ]
  },
  {
   "cell_type": "code",
   "execution_count": 7,
   "id": "54a832ff",
   "metadata": {},
   "outputs": [
    {
     "data": {
      "text/plain": [
       "AutoShape(\n",
       "  (model): DetectMultiBackend(\n",
       "    (model): DetectionModel(\n",
       "      (model): Sequential(\n",
       "        (0): Conv(\n",
       "          (conv): Conv2d(3, 32, kernel_size=(6, 6), stride=(2, 2), padding=(2, 2))\n",
       "          (act): SiLU(inplace=True)\n",
       "        )\n",
       "        (1): Conv(\n",
       "          (conv): Conv2d(32, 64, kernel_size=(3, 3), stride=(2, 2), padding=(1, 1))\n",
       "          (act): SiLU(inplace=True)\n",
       "        )\n",
       "        (2): C3(\n",
       "          (cv1): Conv(\n",
       "            (conv): Conv2d(64, 32, kernel_size=(1, 1), stride=(1, 1))\n",
       "            (act): SiLU(inplace=True)\n",
       "          )\n",
       "          (cv2): Conv(\n",
       "            (conv): Conv2d(64, 32, kernel_size=(1, 1), stride=(1, 1))\n",
       "            (act): SiLU(inplace=True)\n",
       "          )\n",
       "          (cv3): Conv(\n",
       "            (conv): Conv2d(64, 64, kernel_size=(1, 1), stride=(1, 1))\n",
       "            (act): SiLU(inplace=True)\n",
       "          )\n",
       "          (m): Sequential(\n",
       "            (0): Bottleneck(\n",
       "              (cv1): Conv(\n",
       "                (conv): Conv2d(32, 32, kernel_size=(1, 1), stride=(1, 1))\n",
       "                (act): SiLU(inplace=True)\n",
       "              )\n",
       "              (cv2): Conv(\n",
       "                (conv): Conv2d(32, 32, kernel_size=(3, 3), stride=(1, 1), padding=(1, 1))\n",
       "                (act): SiLU(inplace=True)\n",
       "              )\n",
       "            )\n",
       "          )\n",
       "        )\n",
       "        (3): Conv(\n",
       "          (conv): Conv2d(64, 128, kernel_size=(3, 3), stride=(2, 2), padding=(1, 1))\n",
       "          (act): SiLU(inplace=True)\n",
       "        )\n",
       "        (4): C3(\n",
       "          (cv1): Conv(\n",
       "            (conv): Conv2d(128, 64, kernel_size=(1, 1), stride=(1, 1))\n",
       "            (act): SiLU(inplace=True)\n",
       "          )\n",
       "          (cv2): Conv(\n",
       "            (conv): Conv2d(128, 64, kernel_size=(1, 1), stride=(1, 1))\n",
       "            (act): SiLU(inplace=True)\n",
       "          )\n",
       "          (cv3): Conv(\n",
       "            (conv): Conv2d(128, 128, kernel_size=(1, 1), stride=(1, 1))\n",
       "            (act): SiLU(inplace=True)\n",
       "          )\n",
       "          (m): Sequential(\n",
       "            (0): Bottleneck(\n",
       "              (cv1): Conv(\n",
       "                (conv): Conv2d(64, 64, kernel_size=(1, 1), stride=(1, 1))\n",
       "                (act): SiLU(inplace=True)\n",
       "              )\n",
       "              (cv2): Conv(\n",
       "                (conv): Conv2d(64, 64, kernel_size=(3, 3), stride=(1, 1), padding=(1, 1))\n",
       "                (act): SiLU(inplace=True)\n",
       "              )\n",
       "            )\n",
       "            (1): Bottleneck(\n",
       "              (cv1): Conv(\n",
       "                (conv): Conv2d(64, 64, kernel_size=(1, 1), stride=(1, 1))\n",
       "                (act): SiLU(inplace=True)\n",
       "              )\n",
       "              (cv2): Conv(\n",
       "                (conv): Conv2d(64, 64, kernel_size=(3, 3), stride=(1, 1), padding=(1, 1))\n",
       "                (act): SiLU(inplace=True)\n",
       "              )\n",
       "            )\n",
       "          )\n",
       "        )\n",
       "        (5): Conv(\n",
       "          (conv): Conv2d(128, 256, kernel_size=(3, 3), stride=(2, 2), padding=(1, 1))\n",
       "          (act): SiLU(inplace=True)\n",
       "        )\n",
       "        (6): C3(\n",
       "          (cv1): Conv(\n",
       "            (conv): Conv2d(256, 128, kernel_size=(1, 1), stride=(1, 1))\n",
       "            (act): SiLU(inplace=True)\n",
       "          )\n",
       "          (cv2): Conv(\n",
       "            (conv): Conv2d(256, 128, kernel_size=(1, 1), stride=(1, 1))\n",
       "            (act): SiLU(inplace=True)\n",
       "          )\n",
       "          (cv3): Conv(\n",
       "            (conv): Conv2d(256, 256, kernel_size=(1, 1), stride=(1, 1))\n",
       "            (act): SiLU(inplace=True)\n",
       "          )\n",
       "          (m): Sequential(\n",
       "            (0): Bottleneck(\n",
       "              (cv1): Conv(\n",
       "                (conv): Conv2d(128, 128, kernel_size=(1, 1), stride=(1, 1))\n",
       "                (act): SiLU(inplace=True)\n",
       "              )\n",
       "              (cv2): Conv(\n",
       "                (conv): Conv2d(128, 128, kernel_size=(3, 3), stride=(1, 1), padding=(1, 1))\n",
       "                (act): SiLU(inplace=True)\n",
       "              )\n",
       "            )\n",
       "            (1): Bottleneck(\n",
       "              (cv1): Conv(\n",
       "                (conv): Conv2d(128, 128, kernel_size=(1, 1), stride=(1, 1))\n",
       "                (act): SiLU(inplace=True)\n",
       "              )\n",
       "              (cv2): Conv(\n",
       "                (conv): Conv2d(128, 128, kernel_size=(3, 3), stride=(1, 1), padding=(1, 1))\n",
       "                (act): SiLU(inplace=True)\n",
       "              )\n",
       "            )\n",
       "            (2): Bottleneck(\n",
       "              (cv1): Conv(\n",
       "                (conv): Conv2d(128, 128, kernel_size=(1, 1), stride=(1, 1))\n",
       "                (act): SiLU(inplace=True)\n",
       "              )\n",
       "              (cv2): Conv(\n",
       "                (conv): Conv2d(128, 128, kernel_size=(3, 3), stride=(1, 1), padding=(1, 1))\n",
       "                (act): SiLU(inplace=True)\n",
       "              )\n",
       "            )\n",
       "          )\n",
       "        )\n",
       "        (7): Conv(\n",
       "          (conv): Conv2d(256, 512, kernel_size=(3, 3), stride=(2, 2), padding=(1, 1))\n",
       "          (act): SiLU(inplace=True)\n",
       "        )\n",
       "        (8): C3(\n",
       "          (cv1): Conv(\n",
       "            (conv): Conv2d(512, 256, kernel_size=(1, 1), stride=(1, 1))\n",
       "            (act): SiLU(inplace=True)\n",
       "          )\n",
       "          (cv2): Conv(\n",
       "            (conv): Conv2d(512, 256, kernel_size=(1, 1), stride=(1, 1))\n",
       "            (act): SiLU(inplace=True)\n",
       "          )\n",
       "          (cv3): Conv(\n",
       "            (conv): Conv2d(512, 512, kernel_size=(1, 1), stride=(1, 1))\n",
       "            (act): SiLU(inplace=True)\n",
       "          )\n",
       "          (m): Sequential(\n",
       "            (0): Bottleneck(\n",
       "              (cv1): Conv(\n",
       "                (conv): Conv2d(256, 256, kernel_size=(1, 1), stride=(1, 1))\n",
       "                (act): SiLU(inplace=True)\n",
       "              )\n",
       "              (cv2): Conv(\n",
       "                (conv): Conv2d(256, 256, kernel_size=(3, 3), stride=(1, 1), padding=(1, 1))\n",
       "                (act): SiLU(inplace=True)\n",
       "              )\n",
       "            )\n",
       "          )\n",
       "        )\n",
       "        (9): SPPF(\n",
       "          (cv1): Conv(\n",
       "            (conv): Conv2d(512, 256, kernel_size=(1, 1), stride=(1, 1))\n",
       "            (act): SiLU(inplace=True)\n",
       "          )\n",
       "          (cv2): Conv(\n",
       "            (conv): Conv2d(1024, 512, kernel_size=(1, 1), stride=(1, 1))\n",
       "            (act): SiLU(inplace=True)\n",
       "          )\n",
       "          (m): MaxPool2d(kernel_size=5, stride=1, padding=2, dilation=1, ceil_mode=False)\n",
       "        )\n",
       "        (10): Conv(\n",
       "          (conv): Conv2d(512, 256, kernel_size=(1, 1), stride=(1, 1))\n",
       "          (act): SiLU(inplace=True)\n",
       "        )\n",
       "        (11): Upsample(scale_factor=2.0, mode='nearest')\n",
       "        (12): Concat()\n",
       "        (13): C3(\n",
       "          (cv1): Conv(\n",
       "            (conv): Conv2d(512, 128, kernel_size=(1, 1), stride=(1, 1))\n",
       "            (act): SiLU(inplace=True)\n",
       "          )\n",
       "          (cv2): Conv(\n",
       "            (conv): Conv2d(512, 128, kernel_size=(1, 1), stride=(1, 1))\n",
       "            (act): SiLU(inplace=True)\n",
       "          )\n",
       "          (cv3): Conv(\n",
       "            (conv): Conv2d(256, 256, kernel_size=(1, 1), stride=(1, 1))\n",
       "            (act): SiLU(inplace=True)\n",
       "          )\n",
       "          (m): Sequential(\n",
       "            (0): Bottleneck(\n",
       "              (cv1): Conv(\n",
       "                (conv): Conv2d(128, 128, kernel_size=(1, 1), stride=(1, 1))\n",
       "                (act): SiLU(inplace=True)\n",
       "              )\n",
       "              (cv2): Conv(\n",
       "                (conv): Conv2d(128, 128, kernel_size=(3, 3), stride=(1, 1), padding=(1, 1))\n",
       "                (act): SiLU(inplace=True)\n",
       "              )\n",
       "            )\n",
       "          )\n",
       "        )\n",
       "        (14): Conv(\n",
       "          (conv): Conv2d(256, 128, kernel_size=(1, 1), stride=(1, 1))\n",
       "          (act): SiLU(inplace=True)\n",
       "        )\n",
       "        (15): Upsample(scale_factor=2.0, mode='nearest')\n",
       "        (16): Concat()\n",
       "        (17): C3(\n",
       "          (cv1): Conv(\n",
       "            (conv): Conv2d(256, 64, kernel_size=(1, 1), stride=(1, 1))\n",
       "            (act): SiLU(inplace=True)\n",
       "          )\n",
       "          (cv2): Conv(\n",
       "            (conv): Conv2d(256, 64, kernel_size=(1, 1), stride=(1, 1))\n",
       "            (act): SiLU(inplace=True)\n",
       "          )\n",
       "          (cv3): Conv(\n",
       "            (conv): Conv2d(128, 128, kernel_size=(1, 1), stride=(1, 1))\n",
       "            (act): SiLU(inplace=True)\n",
       "          )\n",
       "          (m): Sequential(\n",
       "            (0): Bottleneck(\n",
       "              (cv1): Conv(\n",
       "                (conv): Conv2d(64, 64, kernel_size=(1, 1), stride=(1, 1))\n",
       "                (act): SiLU(inplace=True)\n",
       "              )\n",
       "              (cv2): Conv(\n",
       "                (conv): Conv2d(64, 64, kernel_size=(3, 3), stride=(1, 1), padding=(1, 1))\n",
       "                (act): SiLU(inplace=True)\n",
       "              )\n",
       "            )\n",
       "          )\n",
       "        )\n",
       "        (18): Conv(\n",
       "          (conv): Conv2d(128, 128, kernel_size=(3, 3), stride=(2, 2), padding=(1, 1))\n",
       "          (act): SiLU(inplace=True)\n",
       "        )\n",
       "        (19): Concat()\n",
       "        (20): C3(\n",
       "          (cv1): Conv(\n",
       "            (conv): Conv2d(256, 128, kernel_size=(1, 1), stride=(1, 1))\n",
       "            (act): SiLU(inplace=True)\n",
       "          )\n",
       "          (cv2): Conv(\n",
       "            (conv): Conv2d(256, 128, kernel_size=(1, 1), stride=(1, 1))\n",
       "            (act): SiLU(inplace=True)\n",
       "          )\n",
       "          (cv3): Conv(\n",
       "            (conv): Conv2d(256, 256, kernel_size=(1, 1), stride=(1, 1))\n",
       "            (act): SiLU(inplace=True)\n",
       "          )\n",
       "          (m): Sequential(\n",
       "            (0): Bottleneck(\n",
       "              (cv1): Conv(\n",
       "                (conv): Conv2d(128, 128, kernel_size=(1, 1), stride=(1, 1))\n",
       "                (act): SiLU(inplace=True)\n",
       "              )\n",
       "              (cv2): Conv(\n",
       "                (conv): Conv2d(128, 128, kernel_size=(3, 3), stride=(1, 1), padding=(1, 1))\n",
       "                (act): SiLU(inplace=True)\n",
       "              )\n",
       "            )\n",
       "          )\n",
       "        )\n",
       "        (21): Conv(\n",
       "          (conv): Conv2d(256, 256, kernel_size=(3, 3), stride=(2, 2), padding=(1, 1))\n",
       "          (act): SiLU(inplace=True)\n",
       "        )\n",
       "        (22): Concat()\n",
       "        (23): C3(\n",
       "          (cv1): Conv(\n",
       "            (conv): Conv2d(512, 256, kernel_size=(1, 1), stride=(1, 1))\n",
       "            (act): SiLU(inplace=True)\n",
       "          )\n",
       "          (cv2): Conv(\n",
       "            (conv): Conv2d(512, 256, kernel_size=(1, 1), stride=(1, 1))\n",
       "            (act): SiLU(inplace=True)\n",
       "          )\n",
       "          (cv3): Conv(\n",
       "            (conv): Conv2d(512, 512, kernel_size=(1, 1), stride=(1, 1))\n",
       "            (act): SiLU(inplace=True)\n",
       "          )\n",
       "          (m): Sequential(\n",
       "            (0): Bottleneck(\n",
       "              (cv1): Conv(\n",
       "                (conv): Conv2d(256, 256, kernel_size=(1, 1), stride=(1, 1))\n",
       "                (act): SiLU(inplace=True)\n",
       "              )\n",
       "              (cv2): Conv(\n",
       "                (conv): Conv2d(256, 256, kernel_size=(3, 3), stride=(1, 1), padding=(1, 1))\n",
       "                (act): SiLU(inplace=True)\n",
       "              )\n",
       "            )\n",
       "          )\n",
       "        )\n",
       "        (24): Detect(\n",
       "          (m): ModuleList(\n",
       "            (0): Conv2d(128, 255, kernel_size=(1, 1), stride=(1, 1))\n",
       "            (1): Conv2d(256, 255, kernel_size=(1, 1), stride=(1, 1))\n",
       "            (2): Conv2d(512, 255, kernel_size=(1, 1), stride=(1, 1))\n",
       "          )\n",
       "        )\n",
       "      )\n",
       "    )\n",
       "  )\n",
       ")"
      ]
     },
     "execution_count": 7,
     "metadata": {},
     "output_type": "execute_result"
    }
   ],
   "source": [
    "model"
   ]
  },
  {
   "cell_type": "markdown",
   "id": "e71cf234",
   "metadata": {},
   "source": [
    "<h2>3. Make Detections with images</h2>"
   ]
  },
  {
   "cell_type": "code",
   "execution_count": 8,
   "id": "c062734c",
   "metadata": {},
   "outputs": [],
   "source": [
    "img = \"img1.jpg\""
   ]
  },
  {
   "cell_type": "code",
   "execution_count": 9,
   "id": "497ea80e",
   "metadata": {},
   "outputs": [
    {
     "name": "stderr",
     "output_type": "stream",
     "text": [
      "image 1/1: 800x1200 5 persons, 26 cars, 3 buss, 2 trucks\n",
      "Speed: 148.2ms pre-process, 483.8ms inference, 11.6ms NMS per image at shape (1, 3, 448, 640)\n"
     ]
    }
   ],
   "source": [
    "results = model(img)\n",
    "results.print()"
   ]
  },
  {
   "cell_type": "markdown",
   "id": "c0644522",
   "metadata": {},
   "source": [
    "cocoa classes available -->\n",
    "https://gist.github.com/AruniRC/7b3dadd004da04c80198557db5da4bda"
   ]
  },
  {
   "cell_type": "markdown",
   "id": "31f1b954",
   "metadata": {},
   "source": [
    "results.render() -> returns image with the detections drawn on it"
   ]
  },
  {
   "cell_type": "code",
   "execution_count": 10,
   "id": "e2a2f5a8",
   "metadata": {},
   "outputs": [],
   "source": [
    "cv2.imshow('Result',np.squeeze(results.render()))\n",
    "cv2.imwrite()\n",
    "cv2.waitKey(0)\n",
    "cv2.destroyAllWindows()"
   ]
  },
  {
   "cell_type": "code",
   "execution_count": 11,
   "id": "ad164310",
   "metadata": {
    "scrolled": true
   },
   "outputs": [
    {
     "data": {
      "text/plain": [
       "[array([[[ 26,  25,  23],\n",
       "         [ 23,  23,  23],\n",
       "         [ 22,  23,  25],\n",
       "         ...,\n",
       "         [ 49,  45,  44],\n",
       "         [ 80,  80,  82],\n",
       "         [ 99, 103, 104]],\n",
       " \n",
       "        [[ 30,  29,  27],\n",
       "         [ 25,  25,  25],\n",
       "         [ 19,  20,  22],\n",
       "         ...,\n",
       "         [ 54,  50,  49],\n",
       "         [ 61,  61,  63],\n",
       "         [ 56,  60,  61]],\n",
       " \n",
       "        [[ 27,  26,  24],\n",
       "         [ 20,  20,  20],\n",
       "         [ 11,  12,  14],\n",
       "         ...,\n",
       "         [ 20,  16,  15],\n",
       "         [ 32,  32,  34],\n",
       "         [ 37,  41,  42]],\n",
       " \n",
       "        ...,\n",
       " \n",
       "        [[ 45,  46,  41],\n",
       "         [ 34,  30,  31],\n",
       "         [  7,   1,   5],\n",
       "         ...,\n",
       "         [ 25,  20,  17],\n",
       "         [ 24,  19,  16],\n",
       "         [ 26,  21,  18]],\n",
       " \n",
       "        [[ 37,  37,  37],\n",
       "         [ 19,  14,  18],\n",
       "         [  7,   0,   7],\n",
       "         ...,\n",
       "         [ 29,  24,  21],\n",
       "         [ 26,  21,  18],\n",
       "         [ 25,  20,  17]],\n",
       " \n",
       "        [[ 28,  28,  28],\n",
       "         [  6,   1,   7],\n",
       "         [  6,   0,   7],\n",
       "         ...,\n",
       "         [ 35,  30,  27],\n",
       "         [ 31,  26,  23],\n",
       "         [ 25,  20,  17]]], dtype=uint8)]"
      ]
     },
     "execution_count": 11,
     "metadata": {},
     "output_type": "execute_result"
    }
   ],
   "source": [
    "results.render()"
   ]
  },
  {
   "cell_type": "code",
   "execution_count": 12,
   "id": "77f9e219",
   "metadata": {},
   "outputs": [
    {
     "data": {
      "text/plain": [
       "(1, 800, 1200, 3)"
      ]
     },
     "execution_count": 12,
     "metadata": {},
     "output_type": "execute_result"
    }
   ],
   "source": [
    "np.array(results.render()).shape"
   ]
  },
  {
   "cell_type": "markdown",
   "id": "7bbbe72e",
   "metadata": {},
   "source": [
    "<h2>4. Real Time Detections</h2>"
   ]
  },
  {
   "cell_type": "markdown",
   "id": "ae5611ad",
   "metadata": {},
   "source": [
    "If we want to capture the objects in the video we can pass the video path in cv2.VideoCapture(\"path\")"
   ]
  },
  {
   "cell_type": "code",
   "execution_count": 13,
   "id": "faf5cd1f",
   "metadata": {},
   "outputs": [],
   "source": [
    "cap = cv2.VideoCapture(0)\n",
    "while cap.isOpened():\n",
    "    ret, frame = cap.read()\n",
    " \n",
    "    results = model(frame)\n",
    "    \n",
    "    cv2.imshow('YOLO', np.squeeze(results.render()))\n",
    "    \n",
    "    if cv2.waitKey(10) & 0xFF == ord('0'):\n",
    "        break\n",
    "cap.release()\n",
    "cv2.destroyAllWindows()"
   ]
  },
  {
   "cell_type": "markdown",
   "id": "cf7e5234",
   "metadata": {},
   "source": [
    "<h2>5. Train from Scratch</h2>"
   ]
  },
  {
   "cell_type": "code",
   "execution_count": 14,
   "id": "f4233368",
   "metadata": {},
   "outputs": [],
   "source": [
    "import uuid   # Unique identifier\n",
    "import os\n",
    "import time"
   ]
  },
  {
   "cell_type": "code",
   "execution_count": 15,
   "id": "5e4d4818",
   "metadata": {},
   "outputs": [],
   "source": [
    "IMAGES_PATH = os.path.join('DL_Proj_data', 'images_dataset') #PATH:-> /data/images\n",
    "labels = ['awake', 'drowsy']\n",
    "images_number = 20"
   ]
  },
  {
   "cell_type": "code",
   "execution_count": 16,
   "id": "5893c217",
   "metadata": {},
   "outputs": [
    {
     "name": "stdout",
     "output_type": "stream",
     "text": [
      "Collecting images for awake\n",
      "Collecting images for drowsy\n"
     ]
    }
   ],
   "source": [
    "for label in labels:\n",
    "    print('Collecting images for {}'.format(label))"
   ]
  },
  {
   "cell_type": "code",
   "execution_count": 17,
   "id": "f8fb10e1",
   "metadata": {
    "scrolled": false
   },
   "outputs": [
    {
     "data": {
      "text/plain": [
       "\"\\n# cap = cv2.VideoCapture(0)\\n-- For each label in labels\\nfor label in labels:\\n    print('Collecting images for {}'.format(label))\\n    time.sleep(5)\\n    \\n    # For image through images_number range\\n    for img_num in range(images_number):\\n        print('Collecting images for {}, image number {}'.format(label, img_num))\\n\\n        ret, frame = cap.read()\\n        \\n        # Creating path for image (naming)\\n        imgname = os.path.join(IMAGES_PATH, label+'.'+str(uuid.uuid1())+'.jpg')\\n        \\n        # Writes out image to file \\n        cv2.imwrite(imgname, frame)\\n        \\n        # Display to screen\\n        cv2.imshow('Image Collection', frame)\\n        \\n        # 5 second delay between captures\\n        time.sleep(5)\\n        \\n        if cv2.waitKey(10) & 0xFF == ord('q'):\\n            break\\ncap.release()\\ncv2.destroyAllWindows()\\n\""
      ]
     },
     "execution_count": 17,
     "metadata": {},
     "output_type": "execute_result"
    }
   ],
   "source": [
    "'''\n",
    "# cap = cv2.VideoCapture(0)\n",
    "-- For each label in labels\n",
    "for label in labels:\n",
    "    print('Collecting images for {}'.format(label))\n",
    "    time.sleep(5)\n",
    "    \n",
    "    # For image through images_number range\n",
    "    for img_num in range(images_number):\n",
    "        print('Collecting images for {}, image number {}'.format(label, img_num))\n",
    "\n",
    "        ret, frame = cap.read()\n",
    "        \n",
    "        # Creating path for image (naming)\n",
    "        imgname = os.path.join(IMAGES_PATH, label+'.'+str(uuid.uuid1())+'.jpg')\n",
    "        \n",
    "        # Writes out image to file \n",
    "        cv2.imwrite(imgname, frame)\n",
    "        \n",
    "        # Display to screen\n",
    "        cv2.imshow('Image Collection', frame)\n",
    "        \n",
    "        # 5 second delay between captures\n",
    "        time.sleep(5)\n",
    "        \n",
    "        if cv2.waitKey(10) & 0xFF == ord('q'):\n",
    "            break\n",
    "cap.release()\n",
    "cv2.destroyAllWindows()\n",
    "'''"
   ]
  },
  {
   "cell_type": "markdown",
   "id": "bc839497",
   "metadata": {},
   "source": [
    "<h4>Creating dataset for awake label</h4>"
   ]
  },
  {
   "cell_type": "code",
   "execution_count": 22,
   "id": "0e41d05a",
   "metadata": {},
   "outputs": [
    {
     "name": "stdout",
     "output_type": "stream",
     "text": [
      "raw_data\\awake\n",
      "raw_data\\awake\\WIN_20240407_00_51_45_Pro.jpg\n",
      "raw_data\\awake\\WIN_20240407_00_51_52_Pro.jpg\n",
      "raw_data\\awake\\WIN_20240407_00_51_55_Pro.jpg\n",
      "raw_data\\awake\\WIN_20240407_01_19_32_Pro.jpg\n",
      "raw_data\\awake\\WIN_20240407_01_19_33_Pro.jpg\n",
      "raw_data\\awake\\WIN_20240407_01_19_35_Pro.jpg\n",
      "raw_data\\awake\\WIN_20240407_01_19_41_Pro.jpg\n",
      "raw_data\\awake\\WIN_20240407_01_27_45_Pro.jpg\n",
      "raw_data\\awake\\WIN_20240407_01_27_52_Pro.jpg\n",
      "raw_data\\awake\\WIN_20240407_01_28_24_Pro.jpg\n",
      "raw_data\\awake\\WIN_20240407_01_28_31_Pro.jpg\n",
      "raw_data\\awake\\WIN_20240407_01_28_36_Pro.jpg\n",
      "raw_data\\awake\\WIN_20240407_01_51_17_Pro.jpg\n",
      "raw_data\\awake\\WIN_20240407_01_51_33_Pro.jpg\n",
      "raw_data\\awake\\WIN_20240407_01_51_35_Pro.jpg\n",
      "raw_data\\awake\\WIN_20240407_01_51_36_Pro.jpg\n",
      "raw_data\\awake\\WIN_20240407_01_51_40_Pro.jpg\n",
      "raw_data\\awake\\WIN_20240407_01_51_45_Pro.jpg\n",
      "raw_data\\awake\\WIN_20240407_01_51_49_Pro.jpg\n",
      "raw_data\\awake\\WIN_20240407_01_53_32_Pro.jpg\n",
      "raw_data\\awake\\WIN_20240407_01_53_33_Pro.jpg\n",
      "raw_data\\awake\\WIN_20240407_01_53_35_Pro.jpg\n",
      "raw_data\\awake\\WIN_20240407_01_53_36_Pro.jpg\n",
      "raw_data\\awake\\WIN_20240407_01_54_23_Pro.jpg\n"
     ]
    }
   ],
   "source": [
    "#PATH:-> /raw_data/awake\n",
    "IMAGES_DIRECTORY = os.path.join('raw_data','awake')\n",
    "IMAGE_PATH=os.path.join('data','images')\n",
    "image_files=os.listdir(IMAGES_DIRECTORY)\n",
    "print(IMAGES_DIRECTORY)\n",
    "for image_file in image_files:\n",
    "    \n",
    "    temp_path=os.path.join(IMAGES_DIRECTORY,image_file)\n",
    "    print(temp_path)\n",
    "    image=cv2.imread(temp_path)\n",
    "    cv2.imshow('pic',image)\n",
    "    cv2.waitKey(0)\n",
    "    \n",
    "    new_path=os.path.join(IMAGE_PATH,labels[0]+'.'+str(uuid.uuid1())+'.jpg')\n",
    "    cv2.imwrite(new_path,image)\n",
    "    \n",
    "cv2.destroyAllWindows()\n",
    "    "
   ]
  },
  {
   "cell_type": "markdown",
   "id": "9199a9e7",
   "metadata": {},
   "source": [
    "<h4>Creating dataset for drowsy label</h4>"
   ]
  },
  {
   "cell_type": "code",
   "execution_count": 23,
   "id": "33a30cf6",
   "metadata": {},
   "outputs": [
    {
     "name": "stdout",
     "output_type": "stream",
     "text": [
      "raw_data\\drowsy\n",
      "raw_data\\drowsy\\WIN_20240407_00_57_29_Pro.jpg\n",
      "raw_data\\drowsy\\WIN_20240407_00_57_30_Pro.jpg\n",
      "raw_data\\drowsy\\WIN_20240407_01_19_37_Pro.jpg\n",
      "raw_data\\drowsy\\WIN_20240407_01_19_38_Pro.jpg\n",
      "raw_data\\drowsy\\WIN_20240407_01_19_40_Pro.jpg\n",
      "raw_data\\drowsy\\WIN_20240407_01_19_43_Pro.jpg\n",
      "raw_data\\drowsy\\WIN_20240407_01_19_44_Pro.jpg\n",
      "raw_data\\drowsy\\WIN_20240407_01_54_35_Pro.jpg\n",
      "raw_data\\drowsy\\WIN_20240407_01_54_36_Pro.jpg\n",
      "raw_data\\drowsy\\WIN_20240407_01_54_38_Pro.jpg\n",
      "raw_data\\drowsy\\WIN_20240407_01_54_39_Pro.jpg\n",
      "raw_data\\drowsy\\WIN_20240407_01_54_41_Pro.jpg\n",
      "raw_data\\drowsy\\WIN_20240407_01_54_43_Pro.jpg\n",
      "raw_data\\drowsy\\WIN_20240407_01_54_45_Pro.jpg\n",
      "raw_data\\drowsy\\WIN_20240407_01_55_07_Pro.jpg\n",
      "raw_data\\drowsy\\WIN_20240407_01_55_09_Pro.jpg\n",
      "raw_data\\drowsy\\WIN_20240407_01_56_17_Pro.jpg\n",
      "raw_data\\drowsy\\WIN_20240407_01_56_21_Pro.jpg\n",
      "raw_data\\drowsy\\WIN_20240407_02_06_36_Pro.jpg\n",
      "raw_data\\drowsy\\WIN_20240407_02_06_46_Pro.jpg\n"
     ]
    }
   ],
   "source": [
    "#PATH:-> /raw_data/drowsy\n",
    "IMAGES_DIRECTORY = os.path.join('raw_data','drowsy')\n",
    "IMAGE_PATH=os.path.join('data','images')\n",
    "image_files=os.listdir(IMAGES_DIRECTORY)\n",
    "print(IMAGES_DIRECTORY)\n",
    "for image_file in image_files:\n",
    "    \n",
    "    temp_path=os.path.join(IMAGES_DIRECTORY,image_file)\n",
    "    print(temp_path)\n",
    "    image=cv2.imread(temp_path)\n",
    "    cv2.imshow('pic',image)\n",
    "    cv2.waitKey(0)\n",
    "    \n",
    "    new_path=os.path.join(IMAGE_PATH,labels[1]+'.'+str(uuid.uuid1())+'.jpg')\n",
    "    cv2.imwrite(new_path,image)\n",
    "    \n",
    "cv2.destroyAllWindows()\n",
    "    "
   ]
  },
  {
   "cell_type": "markdown",
   "id": "012472c6",
   "metadata": {},
   "source": [
    " <h4>!git clone https://github.com/tzutalin/labelImg"
   ]
  },
  {
   "cell_type": "markdown",
   "id": "d9d31de8",
   "metadata": {},
   "source": [
    "<h4>\n",
    "!pip install pyqt5 lxml --upgrade"
   ]
  },
  {
   "cell_type": "markdown",
   "id": "63b8bd44",
   "metadata": {},
   "source": [
    "<h4>!cd labelImg && pyrcc5 -o libs/resources.py resources.qrc"
   ]
  },
  {
   "cell_type": "markdown",
   "id": "fd1dd182",
   "metadata": {},
   "source": [
    "In Command prompt - get into labelimg and we can start labelling by<br> <b>python labelImg.py</b>"
   ]
  },
  {
   "cell_type": "markdown",
   "id": "045df20c",
   "metadata": {},
   "source": [
    "<h3> LABELLING DONE"
   ]
  },
  {
   "cell_type": "markdown",
   "id": "e823798a",
   "metadata": {},
   "source": [
    "create dataset.yml"
   ]
  },
  {
   "cell_type": "markdown",
   "id": "ff4d0823",
   "metadata": {},
   "source": [
    "<h4>Training model</h4><br>\n",
    "!cd yolov5 && python train.py --img 320 --batch 16 --epochs 500 --DL_Proj_data dataset.yaml --weights yolov5s.pt --workers 2\n"
   ]
  },
  {
   "cell_type": "code",
   "execution_count": 25,
   "id": "9a4815ab",
   "metadata": {
    "scrolled": false
   },
   "outputs": [],
   "source": [
    "!cd yolov5 && python train.py --img 320 --batch 16 --epochs 500 --data dataset.yaml --weights yolov5s.pt"
   ]
  },
  {
   "cell_type": "markdown",
   "id": "c2f7a6a5",
   "metadata": {},
   "source": [
    "<h2>6. Load Model</h2>"
   ]
  },
  {
   "cell_type": "code",
   "execution_count": null,
   "id": "7749eb2e",
   "metadata": {},
   "outputs": [],
   "source": []
  }
 ],
 "metadata": {
  "kernelspec": {
   "display_name": "Python 3 (ipykernel)",
   "language": "python",
   "name": "python3"
  },
  "language_info": {
   "codemirror_mode": {
    "name": "ipython",
    "version": 3
   },
   "file_extension": ".py",
   "mimetype": "text/x-python",
   "name": "python",
   "nbconvert_exporter": "python",
   "pygments_lexer": "ipython3",
   "version": "3.11.5"
  }
 },
 "nbformat": 4,
 "nbformat_minor": 5
}
