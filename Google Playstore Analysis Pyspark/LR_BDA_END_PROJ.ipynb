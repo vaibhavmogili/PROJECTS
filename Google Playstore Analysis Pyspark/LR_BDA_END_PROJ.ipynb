{
 "cells": [
  {
   "cell_type": "code",
   "execution_count": 1,
   "id": "360f83fe",
   "metadata": {},
   "outputs": [],
   "source": [
    "from pyspark.sql import SparkSession\n",
    "from pyspark.ml.feature import StringIndexer\n",
    "from pyspark.ml.linalg import Vectors\n",
    "from pyspark.ml.feature import VectorAssembler\n",
    "from pyspark.ml.regression import LinearRegression\n",
    "from pyspark.ml.evaluation import RegressionEvaluator\n",
    "from pyspark.sql.functions import regexp_replace, col\n",
    "from pyspark.sql.types import FloatType,IntegerType"
   ]
  },
  {
   "cell_type": "code",
   "execution_count": 2,
   "id": "e0eeb2b0",
   "metadata": {},
   "outputs": [],
   "source": [
    "spark = SparkSession.builder.appName(\"AppRatingPredLinearRegression\").config(\"spark.driver.memory\", \"8g\").getOrCreate()\n",
    "data=spark.read.load('googleplaystore.csv',format='csv',sep=',',header='true',escape='\"',inferschema='true')"
   ]
  },
  {
   "cell_type": "code",
   "execution_count": 3,
   "id": "9b9ac2f0",
   "metadata": {},
   "outputs": [
    {
     "name": "stdout",
     "output_type": "stream",
     "text": [
      "root\n",
      " |-- App: string (nullable = true)\n",
      " |-- Category: string (nullable = true)\n",
      " |-- Rating: double (nullable = true)\n",
      " |-- Reviews: string (nullable = true)\n",
      " |-- Size: string (nullable = true)\n",
      " |-- Installs: string (nullable = true)\n",
      " |-- Type: string (nullable = true)\n",
      " |-- Price: string (nullable = true)\n",
      " |-- Content Rating: string (nullable = true)\n",
      " |-- Genres: string (nullable = true)\n",
      " |-- Last Updated: string (nullable = true)\n",
      " |-- Current Ver: string (nullable = true)\n",
      " |-- Android Ver: string (nullable = true)\n",
      "\n"
     ]
    }
   ],
   "source": [
    "data.printSchema()"
   ]
  },
  {
   "cell_type": "code",
   "execution_count": 4,
   "id": "0b49ae8f",
   "metadata": {},
   "outputs": [],
   "source": [
    "data=data.withColumn(\"Reviews\",col(\"Reviews\").cast(IntegerType()))\\\n",
    ".withColumn(\"Installs\",regexp_replace(col(\"Installs\"),\"[^0-9]\",\"\"))\\\n",
    ".withColumn(\"Installs\",col(\"Installs\").cast(IntegerType()))\\\n",
    ".withColumn(\"Price\",regexp_replace(col(\"price\"),\"[$]\",\"\"))\\\n",
    ".withColumn(\"Price\",col(\"price\").cast(FloatType()))\\\n",
    ".withColumn(\"Size\",regexp_replace(col(\"Size\"), \"M\", \"\"))\\\n",
    ".withColumn(\"Size\", regexp_replace(col(\"Size\"), \"k\", \"\"))\\\n",
    ".withColumn(\"Size\", col(\"Size\").cast(FloatType()))\\\n",
    ".withColumn('Size', regexp_replace(col('Size'), 'Varies with device', '0.0'))\\\n",
    ".withColumn('Size', col('Size').cast(FloatType()))"
   ]
  },
  {
   "cell_type": "code",
   "execution_count": 5,
   "id": "322d13de",
   "metadata": {},
   "outputs": [
    {
     "name": "stdout",
     "output_type": "stream",
     "text": [
      "root\n",
      " |-- App: string (nullable = true)\n",
      " |-- Category: string (nullable = true)\n",
      " |-- Rating: double (nullable = true)\n",
      " |-- Reviews: integer (nullable = true)\n",
      " |-- Size: float (nullable = true)\n",
      " |-- Installs: integer (nullable = true)\n",
      " |-- Type: string (nullable = true)\n",
      " |-- Price: float (nullable = true)\n",
      " |-- Content Rating: string (nullable = true)\n",
      " |-- Genres: string (nullable = true)\n",
      " |-- Last Updated: string (nullable = true)\n",
      " |-- Current Ver: string (nullable = true)\n",
      " |-- Android Ver: string (nullable = true)\n",
      "\n"
     ]
    },
    {
     "data": {
      "text/plain": [
       "['App',\n",
       " 'Category',\n",
       " 'Rating',\n",
       " 'Reviews',\n",
       " 'Size',\n",
       " 'Installs',\n",
       " 'Type',\n",
       " 'Price',\n",
       " 'Content Rating',\n",
       " 'Genres',\n",
       " 'Last Updated',\n",
       " 'Current Ver',\n",
       " 'Android Ver']"
      ]
     },
     "execution_count": 5,
     "metadata": {},
     "output_type": "execute_result"
    }
   ],
   "source": [
    "data.printSchema()\n",
    "data = data.fillna(0)\n",
    "data.columns"
   ]
  },
  {
   "cell_type": "code",
   "execution_count": 6,
   "id": "7a5dc663",
   "metadata": {},
   "outputs": [
    {
     "name": "stdout",
     "output_type": "stream",
     "text": [
      "+--------------------+------+\n",
      "|            features|Rating|\n",
      "+--------------------+------+\n",
      "|[10000.0,159.0,19.0]|   4.1|\n",
      "|[500000.0,967.0,1...|   3.9|\n",
      "|[5000000.0,87510....|   4.7|\n",
      "|[5.0E7,215644.0,2...|   4.5|\n",
      "|[100000.0,967.0,2...|   4.3|\n",
      "|[50000.0,167.0,5....|   4.4|\n",
      "|[50000.0,178.0,19.0]|   3.8|\n",
      "|[1000000.0,36815....|   4.1|\n",
      "|[1000000.0,13791....|   4.4|\n",
      "|[10000.0,121.0,3....|   4.7|\n",
      "|[1000000.0,13880....|   4.4|\n",
      "|[1000000.0,8788.0...|   4.4|\n",
      "|[1.0E7,44829.0,20.0]|   4.2|\n",
      "|[100000.0,4326.0,...|   4.6|\n",
      "|[100000.0,1518.0,...|   4.4|\n",
      "|[5000.0,55.0,2.70...|   3.2|\n",
      "|[500000.0,3632.0,...|   4.7|\n",
      "| [10000.0,27.0,17.0]|   4.5|\n",
      "|[5000000.0,194216...|   4.3|\n",
      "|[1.0E7,224399.0,3...|   4.6|\n",
      "+--------------------+------+\n",
      "only showing top 20 rows\n",
      "\n"
     ]
    }
   ],
   "source": [
    "coef_var=['Installs','Reviews','Size']\n",
    "assembler = VectorAssembler(inputCols=coef_var,\n",
    "                           outputCol='features',handleInvalid=\"skip\")\n",
    "output=assembler.transform(data)\n",
    "final_df=output.select('features','Rating')\n",
    "final_df.show()"
   ]
  },
  {
   "cell_type": "code",
   "execution_count": 7,
   "id": "b5211816",
   "metadata": {},
   "outputs": [
    {
     "name": "stdout",
     "output_type": "stream",
     "text": [
      "+-------+------------------+\n",
      "|summary|            Rating|\n",
      "+-------+------------------+\n",
      "|  count|              8681|\n",
      "|   mean|3.6150097914986845|\n",
      "| stddev| 1.521296372359405|\n",
      "|    min|               0.0|\n",
      "|    max|               5.0|\n",
      "+-------+------------------+\n",
      "\n",
      "+-------+-----------------+\n",
      "|summary|           Rating|\n",
      "+-------+-----------------+\n",
      "|  count|             2160|\n",
      "|   mean|3.656064814814815|\n",
      "| stddev| 1.52312125457861|\n",
      "|    min|              0.0|\n",
      "|    max|             19.0|\n",
      "+-------+-----------------+\n",
      "\n"
     ]
    }
   ],
   "source": [
    "train_data, test_data = final_df.randomSplit([0.8,0.2],seed=1234)\n",
    "train_data.describe().show()\n",
    "test_data.describe().show()"
   ]
  },
  {
   "cell_type": "code",
   "execution_count": 8,
   "id": "a65f6a81",
   "metadata": {},
   "outputs": [
    {
     "name": "stdout",
     "output_type": "stream",
     "text": [
      "+--------------------+------+\n",
      "|            features|Rating|\n",
      "+--------------------+------+\n",
      "|           (3,[],[])|   0.0|\n",
      "|[0.0,0.0,1.200000...|   0.0|\n",
      "|[0.0,0.0,1.399999...|   0.0|\n",
      "|[0.0,0.0,2.599999...|   0.0|\n",
      "|[0.0,0.0,3.200000...|   0.0|\n",
      "|[0.0,0.0,5.400000...|   0.0|\n",
      "|       [0.0,0.0,5.5]|   0.0|\n",
      "|[0.0,0.0,5.900000...|   0.0|\n",
      "|[0.0,0.0,7.400000...|   0.0|\n",
      "|[0.0,0.0,8.699999...|   0.0|\n",
      "|      [0.0,0.0,10.0]|   0.0|\n",
      "|      [0.0,0.0,33.0]|   0.0|\n",
      "|      [0.0,0.0,40.0]|   0.0|\n",
      "|      [0.0,0.0,56.0]|   0.0|\n",
      "|       [1.0,0.0,0.0]|   0.0|\n",
      "|       [1.0,0.0,0.0]|   0.0|\n",
      "|       [1.0,0.0,0.0]|   0.0|\n",
      "|[1.0,0.0,1.600000...|   0.0|\n",
      "|[1.0,0.0,1.700000...|   0.0|\n",
      "|[1.0,0.0,2.299999...|   0.0|\n",
      "+--------------------+------+\n",
      "only showing top 20 rows\n",
      "\n",
      "+--------------------+------+\n",
      "|            features|Rating|\n",
      "+--------------------+------+\n",
      "|           (3,[],[])|  19.0|\n",
      "|[0.0,0.0,2.099999...|   0.0|\n",
      "|[1.0,0.0,1.799999...|   0.0|\n",
      "|[1.0,0.0,2.799999...|   0.0|\n",
      "|[1.0,0.0,2.799999...|   0.0|\n",
      "|[1.0,0.0,2.900000...|   0.0|\n",
      "|[1.0,0.0,3.099999...|   0.0|\n",
      "|[1.0,0.0,5.099999...|   0.0|\n",
      "|[1.0,0.0,9.699999...|   0.0|\n",
      "|      [1.0,0.0,10.0]|   0.0|\n",
      "|      [1.0,0.0,14.0]|   0.0|\n",
      "|      [1.0,0.0,18.0]|   0.0|\n",
      "|      [1.0,0.0,19.0]|   0.0|\n",
      "|      [1.0,0.0,20.0]|   0.0|\n",
      "|      [1.0,0.0,29.0]|   0.0|\n",
      "|      [1.0,0.0,30.0]|   0.0|\n",
      "|     [1.0,0.0,898.0]|   0.0|\n",
      "|[1.0,1.0,5.800000...|   0.0|\n",
      "|      [1.0,1.0,75.0]|   0.0|\n",
      "|       [5.0,0.0,0.0]|   0.0|\n",
      "+--------------------+------+\n",
      "only showing top 20 rows\n",
      "\n"
     ]
    }
   ],
   "source": [
    "train_data.show()\n",
    "test_data.show()"
   ]
  },
  {
   "cell_type": "code",
   "execution_count": 9,
   "id": "cd761e78",
   "metadata": {},
   "outputs": [],
   "source": [
    "lm=LinearRegression(labelCol='Rating')\n",
    "model=lm.fit(train_data)"
   ]
  },
  {
   "cell_type": "code",
   "execution_count": 10,
   "id": "33de35be",
   "metadata": {},
   "outputs": [
    {
     "data": {
      "text/html": [
       "<div>\n",
       "<style scoped>\n",
       "    .dataframe tbody tr th:only-of-type {\n",
       "        vertical-align: middle;\n",
       "    }\n",
       "\n",
       "    .dataframe tbody tr th {\n",
       "        vertical-align: top;\n",
       "    }\n",
       "\n",
       "    .dataframe thead th {\n",
       "        text-align: right;\n",
       "    }\n",
       "</style>\n",
       "<table border=\"1\" class=\"dataframe\">\n",
       "  <thead>\n",
       "    <tr style=\"text-align: right;\">\n",
       "      <th></th>\n",
       "      <th>Coefficients</th>\n",
       "    </tr>\n",
       "  </thead>\n",
       "  <tbody>\n",
       "    <tr>\n",
       "      <th>Installs</th>\n",
       "      <td>9.754780e-10</td>\n",
       "    </tr>\n",
       "    <tr>\n",
       "      <th>Reviews</th>\n",
       "      <td>2.316257e-08</td>\n",
       "    </tr>\n",
       "    <tr>\n",
       "      <th>Size</th>\n",
       "      <td>-2.798490e-04</td>\n",
       "    </tr>\n",
       "  </tbody>\n",
       "</table>\n",
       "</div>"
      ],
      "text/plain": [
       "          Coefficients\n",
       "Installs  9.754780e-10\n",
       "Reviews   2.316257e-08\n",
       "Size     -2.798490e-04"
      ]
     },
     "execution_count": 10,
     "metadata": {},
     "output_type": "execute_result"
    }
   ],
   "source": [
    "import pandas as pd\n",
    "pd.DataFrame({\"Coefficients\":model.coefficients}, index=coef_var)"
   ]
  },
  {
   "cell_type": "code",
   "execution_count": 11,
   "id": "294b0f11",
   "metadata": {},
   "outputs": [
    {
     "name": "stdout",
     "output_type": "stream",
     "text": [
      "+-------------------+\n",
      "|          residuals|\n",
      "+-------------------+\n",
      "| 15.401877959231157|\n",
      "|-3.5975343578827763|\n",
      "| -3.597618313546732|\n",
      "|-3.5973384645406585|\n",
      "|-3.5973384645406585|\n",
      "+-------------------+\n",
      "only showing top 5 rows\n",
      "\n"
     ]
    }
   ],
   "source": [
    "res=model.evaluate(test_data)\n",
    "res.residuals.show(5)"
   ]
  },
  {
   "cell_type": "code",
   "execution_count": 12,
   "id": "de50f74c",
   "metadata": {
    "scrolled": true
   },
   "outputs": [
    {
     "name": "stdout",
     "output_type": "stream",
     "text": [
      "+------------------+\n",
      "|        prediction|\n",
      "+------------------+\n",
      "|3.5981220407688417|\n",
      "|3.5975343578827763|\n",
      "| 3.597618313546732|\n",
      "|3.5973384645406585|\n",
      "|3.5973384645406585|\n",
      "+------------------+\n",
      "only showing top 5 rows\n",
      "\n",
      "MSE:2.302158065516382\n",
      "MAE:1.0786574575130905\n",
      "RMSE:1.5172864151228607\n",
      "R2:0.007187376553973057\n"
     ]
    }
   ],
   "source": [
    "unlabeled_data=test_data.select('features')\n",
    "predictions = model.transform(unlabeled_data)\n",
    "predictions.select('prediction').show(5)\n",
    "print(f\"MSE:{res.meanSquaredError}\")\n",
    "print(f\"MAE:{res.meanAbsoluteError}\")\n",
    "print(f\"RMSE:{res.rootMeanSquaredError}\")\n",
    "print(f\"R2:{res.r2}\")"
   ]
  },
  {
   "cell_type": "code",
   "execution_count": 13,
   "id": "69d9c3ba",
   "metadata": {
    "scrolled": false
   },
   "outputs": [],
   "source": [
    "test_pd=test_data.select('Rating').toPandas()\n",
    "pred_test_pd=predictions.select('prediction').toPandas()"
   ]
  },
  {
   "cell_type": "code",
   "execution_count": 14,
   "id": "4f0263f8",
   "metadata": {},
   "outputs": [
    {
     "data": {
      "image/png": "[encoded data removed]",
      "text/plain": [
       "<Figure size 640x480 with 1 Axes>"
      ]
     },
     "metadata": {},
     "output_type": "display_data"
    }
   ],
   "source": [
    "import matplotlib.pyplot as plt\n",
    "plt.plot(test_pd['Rating'],color='red')\n",
    "plt.plot(pred_test_pd['prediction'],color='blue')\n",
    "plt.xlabel('Actual test data')\n",
    "plt.ylabel('Predicted test data')\n",
    "plt.title('Actual test data vs Predicted test data')\n",
    "plt.show()"
   ]
  }
 ],
 "metadata": {
  "kernelspec": {
   "display_name": "Python 3 (ipykernel)",
   "language": "python",
   "name": "python3"
  },
  "language_info": {
   "codemirror_mode": {
    "name": "ipython",
    "version": 3
   },
   "file_extension": ".py",
   "mimetype": "text/x-python",
   "name": "python",
   "nbconvert_exporter": "python",
   "pygments_lexer": "ipython3",
   "version": "3.11.5"
  }
 },
 "nbformat": 4,
 "nbformat_minor": 5
}
