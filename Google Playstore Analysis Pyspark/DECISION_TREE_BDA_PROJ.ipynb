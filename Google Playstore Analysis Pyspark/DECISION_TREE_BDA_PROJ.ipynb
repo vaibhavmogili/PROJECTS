{
 "cells": [
  {
   "cell_type": "code",
   "execution_count": 1,
   "id": "1b211d14",
   "metadata": {},
   "outputs": [],
   "source": [
    "from pyspark.sql import SparkSession\n",
    "from pyspark.ml.feature import StringIndexer, VectorAssembler\n",
    "from pyspark.ml.classification import DecisionTreeClassifier\n",
    "from pyspark.ml.evaluation import MulticlassClassificationEvaluator\n",
    "from pyspark.sql.functions import regexp_replace, col\n",
    "from pyspark.sql.types import FloatType,IntegerType"
   ]
  },
  {
   "cell_type": "code",
   "execution_count": 2,
   "id": "d47035d5",
   "metadata": {},
   "outputs": [],
   "source": [
    "spark = SparkSession.builder.appName(\"DecisionTree\").config(\"spark.driver.memory\", \"8g\").getOrCreate()"
   ]
  },
  {
   "cell_type": "markdown",
   "id": "a404b38c",
   "metadata": {},
   "source": [
    "<h4>Loading Data from csv file</h4>"
   ]
  },
  {
   "cell_type": "code",
   "execution_count": 3,
   "id": "8c2bb8d6",
   "metadata": {},
   "outputs": [],
   "source": [
    "data = spark.read.load('googleplaystore.csv', format='csv', sep=',', header='true', inferSchema='true', escape='\"')"
   ]
  },
  {
   "cell_type": "code",
   "execution_count": 4,
   "id": "7aa909f0",
   "metadata": {},
   "outputs": [
    {
     "name": "stdout",
     "output_type": "stream",
     "text": [
      "+--------------------+--------------+------+-------+----+-----------+----+-----+--------------+--------------------+------------------+------------------+------------+\n",
      "|                 App|      Category|Rating|Reviews|Size|   Installs|Type|Price|Content Rating|              Genres|      Last Updated|       Current Ver| Android Ver|\n",
      "+--------------------+--------------+------+-------+----+-----------+----+-----+--------------+--------------------+------------------+------------------+------------+\n",
      "|Photo Editor & Ca...|ART_AND_DESIGN|   4.1|    159| 19M|    10,000+|Free|    0|      Everyone|        Art & Design|   January 7, 2018|             1.0.0|4.0.3 and up|\n",
      "| Coloring book moana|ART_AND_DESIGN|   3.9|    967| 14M|   500,000+|Free|    0|      Everyone|Art & Design;Pret...|  January 15, 2018|             2.0.0|4.0.3 and up|\n",
      "|U Launcher Lite –...|ART_AND_DESIGN|   4.7|  87510|8.7M| 5,000,000+|Free|    0|      Everyone|        Art & Design|    August 1, 2018|             1.2.4|4.0.3 and up|\n",
      "|Sketch - Draw & P...|ART_AND_DESIGN|   4.5| 215644| 25M|50,000,000+|Free|    0|          Teen|        Art & Design|      June 8, 2018|Varies with device|  4.2 and up|\n",
      "|Pixel Draw - Numb...|ART_AND_DESIGN|   4.3|    967|2.8M|   100,000+|Free|    0|      Everyone|Art & Design;Crea...|     June 20, 2018|               1.1|  4.4 and up|\n",
      "|Paper flowers ins...|ART_AND_DESIGN|   4.4|    167|5.6M|    50,000+|Free|    0|      Everyone|        Art & Design|    March 26, 2017|               1.0|  2.3 and up|\n",
      "|Smoke Effect Phot...|ART_AND_DESIGN|   3.8|    178| 19M|    50,000+|Free|    0|      Everyone|        Art & Design|    April 26, 2018|               1.1|4.0.3 and up|\n",
      "|    Infinite Painter|ART_AND_DESIGN|   4.1|  36815| 29M| 1,000,000+|Free|    0|      Everyone|        Art & Design|     June 14, 2018|          6.1.61.1|  4.2 and up|\n",
      "|Garden Coloring Book|ART_AND_DESIGN|   4.4|  13791| 33M| 1,000,000+|Free|    0|      Everyone|        Art & Design|September 20, 2017|             2.9.2|  3.0 and up|\n",
      "|Kids Paint Free -...|ART_AND_DESIGN|   4.7|    121|3.1M|    10,000+|Free|    0|      Everyone|Art & Design;Crea...|      July 3, 2018|               2.8|4.0.3 and up|\n",
      "+--------------------+--------------+------+-------+----+-----------+----+-----+--------------+--------------------+------------------+------------------+------------+\n",
      "only showing top 10 rows\n",
      "\n"
     ]
    }
   ],
   "source": [
    "data.show(10)"
   ]
  },
  {
   "cell_type": "code",
   "execution_count": 5,
   "id": "64ff2333",
   "metadata": {},
   "outputs": [
    {
     "name": "stdout",
     "output_type": "stream",
     "text": [
      "root\n",
      " |-- App: string (nullable = true)\n",
      " |-- Category: string (nullable = true)\n",
      " |-- Rating: double (nullable = true)\n",
      " |-- Reviews: string (nullable = true)\n",
      " |-- Size: string (nullable = true)\n",
      " |-- Installs: string (nullable = true)\n",
      " |-- Type: string (nullable = true)\n",
      " |-- Price: string (nullable = true)\n",
      " |-- Content Rating: string (nullable = true)\n",
      " |-- Genres: string (nullable = true)\n",
      " |-- Last Updated: string (nullable = true)\n",
      " |-- Current Ver: string (nullable = true)\n",
      " |-- Android Ver: string (nullable = true)\n",
      "\n"
     ]
    }
   ],
   "source": [
    "data.printSchema()"
   ]
  },
  {
   "cell_type": "markdown",
   "id": "5d0b0c24",
   "metadata": {},
   "source": [
    "<H4>Data Cleaning and Data PreProcessing</H4>"
   ]
  },
  {
   "cell_type": "code",
   "execution_count": 6,
   "id": "7b93c926",
   "metadata": {},
   "outputs": [],
   "source": [
    "data=data.withColumn(\"Reviews\",col(\"Reviews\").cast(IntegerType()))\\\n",
    ".withColumn(\"Installs\",regexp_replace(col(\"Installs\"),\"[^0-9]\",\"\"))\\\n",
    ".withColumn(\"Installs\",col(\"Installs\").cast(IntegerType()))\\\n",
    ".withColumn(\"Price\",regexp_replace(col(\"price\"),\"[$]\",\"\"))\\\n",
    ".withColumn(\"Price\",col(\"price\").cast(FloatType()))\\\n",
    ".withColumn(\"Size\",regexp_replace(col(\"Size\"), \"M\", \"\"))\\\n",
    ".withColumn(\"Size\", regexp_replace(col(\"Size\"), \"k\", \"\"))\\\n",
    ".withColumn(\"Size\", col(\"Size\").cast(FloatType()))\\\n",
    ".withColumn('Size', regexp_replace(col('Size'), 'Varies with device', '0.0'))\\\n",
    ".withColumn('Size', col('Size').cast(FloatType()))"
   ]
  },
  {
   "cell_type": "code",
   "execution_count": 7,
   "id": "64e39f03",
   "metadata": {},
   "outputs": [
    {
     "name": "stdout",
     "output_type": "stream",
     "text": [
      "root\n",
      " |-- App: string (nullable = true)\n",
      " |-- Category: string (nullable = true)\n",
      " |-- Rating: double (nullable = true)\n",
      " |-- Reviews: integer (nullable = true)\n",
      " |-- Size: float (nullable = true)\n",
      " |-- Installs: integer (nullable = true)\n",
      " |-- Type: string (nullable = true)\n",
      " |-- Price: float (nullable = true)\n",
      " |-- Content Rating: string (nullable = true)\n",
      " |-- Genres: string (nullable = true)\n",
      " |-- Last Updated: string (nullable = true)\n",
      " |-- Current Ver: string (nullable = true)\n",
      " |-- Android Ver: string (nullable = true)\n",
      "\n"
     ]
    },
    {
     "data": {
      "text/plain": [
       "['App',\n",
       " 'Category',\n",
       " 'Rating',\n",
       " 'Reviews',\n",
       " 'Size',\n",
       " 'Installs',\n",
       " 'Type',\n",
       " 'Price',\n",
       " 'Content Rating',\n",
       " 'Genres',\n",
       " 'Last Updated',\n",
       " 'Current Ver',\n",
       " 'Android Ver']"
      ]
     },
     "execution_count": 7,
     "metadata": {},
     "output_type": "execute_result"
    }
   ],
   "source": [
    "data.printSchema()\n",
    "data = data.fillna(0)\n",
    "data.columns"
   ]
  },
  {
   "cell_type": "markdown",
   "id": "9f1640b3",
   "metadata": {},
   "source": [
    "<h4>Convert the 'Type' column to a numerical format</h4>"
   ]
  },
  {
   "cell_type": "code",
   "execution_count": 8,
   "id": "df8a0f92",
   "metadata": {},
   "outputs": [],
   "source": [
    "indexer = StringIndexer(inputCol='Type', outputCol='label')\n",
    "data = indexer.fit(data).transform(data)"
   ]
  },
  {
   "cell_type": "code",
   "execution_count": 9,
   "id": "81375c12",
   "metadata": {},
   "outputs": [
    {
     "name": "stdout",
     "output_type": "stream",
     "text": [
      "root\n",
      " |-- App: string (nullable = true)\n",
      " |-- Category: string (nullable = true)\n",
      " |-- Rating: double (nullable = false)\n",
      " |-- Reviews: integer (nullable = true)\n",
      " |-- Size: float (nullable = false)\n",
      " |-- Installs: integer (nullable = true)\n",
      " |-- Type: string (nullable = true)\n",
      " |-- Price: float (nullable = false)\n",
      " |-- Content Rating: string (nullable = true)\n",
      " |-- Genres: string (nullable = true)\n",
      " |-- Last Updated: string (nullable = true)\n",
      " |-- Current Ver: string (nullable = true)\n",
      " |-- Android Ver: string (nullable = true)\n",
      " |-- label: double (nullable = false)\n",
      "\n",
      "+-----+\n",
      "|label|\n",
      "+-----+\n",
      "|  0.0|\n",
      "|  0.0|\n",
      "|  0.0|\n",
      "|  0.0|\n",
      "|  0.0|\n",
      "|  0.0|\n",
      "|  0.0|\n",
      "|  0.0|\n",
      "|  0.0|\n",
      "|  0.0|\n",
      "|  0.0|\n",
      "|  0.0|\n",
      "|  0.0|\n",
      "|  0.0|\n",
      "|  0.0|\n",
      "|  0.0|\n",
      "|  0.0|\n",
      "|  0.0|\n",
      "|  0.0|\n",
      "|  0.0|\n",
      "+-----+\n",
      "only showing top 20 rows\n",
      "\n"
     ]
    }
   ],
   "source": [
    "data.printSchema()\n",
    "data.select('label').show()"
   ]
  },
  {
   "cell_type": "markdown",
   "id": "35a5768c",
   "metadata": {},
   "source": [
    "<h4>Select features and label</h4>"
   ]
  },
  {
   "cell_type": "code",
   "execution_count": 10,
   "id": "535c7704",
   "metadata": {},
   "outputs": [],
   "source": [
    "feature_cols = ['Rating', 'Reviews','Installs']\n",
    "assembler = VectorAssembler(inputCols=feature_cols, outputCol='features')\n",
    "data = assembler.transform(data)"
   ]
  },
  {
   "cell_type": "markdown",
   "id": "106bf728",
   "metadata": {},
   "source": [
    "<h4>Split data into training and test sets</h4>"
   ]
  },
  {
   "cell_type": "code",
   "execution_count": 11,
   "id": "f42e5687",
   "metadata": {},
   "outputs": [
    {
     "data": {
      "text/plain": [
       "2160"
      ]
     },
     "execution_count": 11,
     "metadata": {},
     "output_type": "execute_result"
    }
   ],
   "source": [
    "train_data, test_data = data.randomSplit([0.8, 0.2], seed=1234)\n",
    "test_data.count()"
   ]
  },
  {
   "cell_type": "markdown",
   "id": "ed65ed7d",
   "metadata": {},
   "source": [
    "<h4>Create a decision tree model</h4>"
   ]
  },
  {
   "cell_type": "code",
   "execution_count": 12,
   "id": "111e713c",
   "metadata": {},
   "outputs": [],
   "source": [
    "dt = DecisionTreeClassifier(seed=1234,featuresCol='features', labelCol='label')"
   ]
  },
  {
   "cell_type": "markdown",
   "id": "ffa7dc60",
   "metadata": {},
   "source": [
    "<h4>Train the model</h4>"
   ]
  },
  {
   "cell_type": "code",
   "execution_count": 13,
   "id": "74cc827a",
   "metadata": {},
   "outputs": [
    {
     "name": "stdout",
     "output_type": "stream",
     "text": [
      "Decision Tree Model:\n",
      "DecisionTreeClassificationModel: uid=DecisionTreeClassifier_1fadc9afb983, depth=5, numNodes=33, numClasses=4, numFeatures=3\n",
      "  If (feature 2 <= 30000.0)\n",
      "   If (feature 1 <= 764.0)\n",
      "    If (feature 1 <= 104.5)\n",
      "     Predict: 0.0\n",
      "    Else (feature 1 > 104.5)\n",
      "     If (feature 2 <= 7500.0)\n",
      "      If (feature 1 <= 169.5)\n",
      "       Predict: 0.0\n",
      "      Else (feature 1 > 169.5)\n",
      "       Predict: 1.0\n",
      "     Else (feature 2 > 7500.0)\n",
      "      Predict: 0.0\n",
      "   Else (feature 1 > 764.0)\n",
      "    If (feature 1 <= 1255.5)\n",
      "     If (feature 0 <= 4.45)\n",
      "      If (feature 0 <= 4.05)\n",
      "       Predict: 0.0\n",
      "      Else (feature 0 > 4.05)\n",
      "       Predict: 1.0\n",
      "     Else (feature 0 > 4.45)\n",
      "      If (feature 2 <= 3000.0)\n",
      "       Predict: 1.0\n",
      "      Else (feature 2 > 3000.0)\n",
      "       Predict: 0.0\n",
      "    Else (feature 1 > 1255.5)\n",
      "     If (feature 0 <= 3.95)\n",
      "      Predict: 0.0\n",
      "     Else (feature 0 > 3.95)\n",
      "      If (feature 0 <= 4.85)\n",
      "       Predict: 1.0\n",
      "      Else (feature 0 > 4.85)\n",
      "       Predict: 0.0\n",
      "  Else (feature 2 > 30000.0)\n",
      "   If (feature 2 <= 300000.0)\n",
      "    If (feature 1 <= 8599.5)\n",
      "     Predict: 0.0\n",
      "    Else (feature 1 > 8599.5)\n",
      "     If (feature 1 <= 13090.5)\n",
      "      If (feature 2 <= 75000.0)\n",
      "       Predict: 1.0\n",
      "      Else (feature 2 > 75000.0)\n",
      "       Predict: 0.0\n",
      "     Else (feature 1 > 13090.5)\n",
      "      If (feature 0 <= 4.45)\n",
      "       Predict: 0.0\n",
      "      Else (feature 0 > 4.45)\n",
      "       Predict: 1.0\n",
      "   Else (feature 2 > 300000.0)\n",
      "    Predict: 0.0\n",
      "\n"
     ]
    }
   ],
   "source": [
    "model = dt.fit(train_data)\n",
    "predictions = model.transform(test_data)\n",
    "\n",
    "print(\"Decision Tree Model:\")\n",
    "print(model.toDebugString)"
   ]
  },
  {
   "cell_type": "markdown",
   "id": "ecb3716c",
   "metadata": {},
   "source": [
    "<h4>Evaluate the model using MulticlassClassifierEvaluator</h4>"
   ]
  },
  {
   "cell_type": "code",
   "execution_count": 14,
   "id": "fb4c7c25",
   "metadata": {},
   "outputs": [
    {
     "name": "stdout",
     "output_type": "stream",
     "text": [
      "Accuracy: 0.9273148148148148\n"
     ]
    }
   ],
   "source": [
    "evaluator = MulticlassClassificationEvaluator(predictionCol=\"prediction\", labelCol=\"label\", metricName=\"accuracy\")\n",
    "accuracy = evaluator.evaluate(predictions)\n",
    "\n",
    "print(f\"Accuracy: {accuracy}\")"
   ]
  },
  {
   "cell_type": "markdown",
   "id": "c74dc25a",
   "metadata": {},
   "source": [
    "<h4>Confusion Matrix</h4>"
   ]
  },
  {
   "cell_type": "code",
   "execution_count": 15,
   "id": "e32f281c",
   "metadata": {},
   "outputs": [
    {
     "name": "stdout",
     "output_type": "stream",
     "text": [
      "+-----+----------+-----+\n",
      "|label|prediction|count|\n",
      "+-----+----------+-----+\n",
      "|  2.0|       0.0|    1|\n",
      "|  1.0|       1.0|   23|\n",
      "|  0.0|       1.0|   15|\n",
      "|  1.0|       0.0|  141|\n",
      "|  0.0|       0.0| 1980|\n",
      "+-----+----------+-----+\n",
      "\n"
     ]
    }
   ],
   "source": [
    "confusion_matrix = predictions.groupBy(\"label\", \"prediction\").count()\n",
    "confusion_matrix.show()"
   ]
  },
  {
   "cell_type": "markdown",
   "id": "dd5be910",
   "metadata": {},
   "source": [
    "<ul>\n",
    "    <li>True Positives (TP): 23 (Paid apps correctly predicted as paid)</li>\n",
    "    <li>False Positives (FP): 15 (Free apps incorrectly predicted as paid)</li>\n",
    "    <li>True Negatives (TN): 1980 (Free apps correctly predicted as free)</li>\n",
    "    <li>False Negatives (FN): 141 (Paid apps incorrectly predicted as free)</li>\n",
    "</ul>"
   ]
  },
  {
   "cell_type": "markdown",
   "id": "019c96e4",
   "metadata": {},
   "source": [
    "<ul>\n",
    "    <li>\n",
    "        <b>For label 0.0 (Free apps):</b>\n",
    "\n",
    "-> 1980 instances were correctly predicted as free apps (True Negatives).\n",
    "-> 15 instances were incorrectly predicted as paid apps (False Positives).</li>\n",
    "    <li>\n",
    "        <b>For label 1.0 (Paid apps):</b>\n",
    "\n",
    "-> 23 instances were correctly predicted as paid apps (True Positives).\n",
    "-> 141 instances were incorrectly predicted as free apps (False Negatives).</li>\n",
    "    <li>\n",
    "        <b>For label 2.0 (Type \"Varies with device\"):</b>\n",
    "\n",
    "-> 1 instance was incorrectly predicted as a free app.</li></ul>"
   ]
  },
  {
   "cell_type": "code",
   "execution_count": null,
   "id": "181e1178",
   "metadata": {},
   "outputs": [],
   "source": []
  }
 ],
 "metadata": {
  "kernelspec": {
   "display_name": "Python 3 (ipykernel)",
   "language": "python",
   "name": "python3"
  },
  "language_info": {
   "codemirror_mode": {
    "name": "ipython",
    "version": 3
   },
   "file_extension": ".py",
   "mimetype": "text/x-python",
   "name": "python",
   "nbconvert_exporter": "python",
   "pygments_lexer": "ipython3",
   "version": "3.11.5"
  }
 },
 "nbformat": 4,
 "nbformat_minor": 5
}
